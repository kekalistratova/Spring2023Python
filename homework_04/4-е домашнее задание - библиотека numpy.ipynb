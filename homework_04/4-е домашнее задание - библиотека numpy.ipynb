{
 "cells": [
  {
   "cell_type": "markdown",
   "metadata": {},
   "source": [
    "## 4-е домашнее задание - Библиотека numpy\n",
    "\n",
    "### Калистратова Ксения Евгеньевна, НПМбд-01-20, №1032201723.\n",
    "Выполненное задание загрузите в свой репозиторий «<b>Spring2023Python</b>» в github в папку \"<b>homework04</b>\".  \n",
    "\n",
    "Перед выполнением этого домашнего задания полезно прочитать про возможности и основные методы библиотеки numpy:  \n",
    "http://acm.mipt.ru/twiki/bin/view/Cintro/PythonNumpy  \n"
   ]
  },
  {
   "cell_type": "markdown",
   "metadata": {},
   "source": [
    "1.\tСоздайте равномерное разбиение интервала от -1.3 до 2.5 на 64 отрезка."
   ]
  },
  {
   "cell_type": "code",
   "execution_count": 32,
   "metadata": {},
   "outputs": [],
   "source": [
    "import numpy as np"
   ]
  },
  {
   "cell_type": "code",
   "execution_count": 33,
   "metadata": {},
   "outputs": [
    {
     "data": {
      "text/plain": [
       "array([-1.3     , -1.240625, -1.18125 , -1.121875, -1.0625  , -1.003125,\n",
       "       -0.94375 , -0.884375, -0.825   , -0.765625, -0.70625 , -0.646875,\n",
       "       -0.5875  , -0.528125, -0.46875 , -0.409375, -0.35    , -0.290625,\n",
       "       -0.23125 , -0.171875, -0.1125  , -0.053125,  0.00625 ,  0.065625,\n",
       "        0.125   ,  0.184375,  0.24375 ,  0.303125,  0.3625  ,  0.421875,\n",
       "        0.48125 ,  0.540625,  0.6     ,  0.659375,  0.71875 ,  0.778125,\n",
       "        0.8375  ,  0.896875,  0.95625 ,  1.015625,  1.075   ,  1.134375,\n",
       "        1.19375 ,  1.253125,  1.3125  ,  1.371875,  1.43125 ,  1.490625,\n",
       "        1.55    ,  1.609375,  1.66875 ,  1.728125,  1.7875  ,  1.846875,\n",
       "        1.90625 ,  1.965625,  2.025   ,  2.084375,  2.14375 ,  2.203125,\n",
       "        2.2625  ,  2.321875,  2.38125 ,  2.440625,  2.5     ])"
      ]
     },
     "execution_count": 33,
     "metadata": {},
     "output_type": "execute_result"
    }
   ],
   "source": [
    "np.linspace(-1.3, 2.5, 65)"
   ]
  },
  {
   "cell_type": "markdown",
   "metadata": {},
   "source": [
    "2. Сгенерируйте numpy массив длины $3n$, заполненный циклически числами 1, 2, 3, 1, 2, 3, 1...."
   ]
  },
  {
   "cell_type": "code",
   "execution_count": 36,
   "metadata": {},
   "outputs": [
    {
     "name": "stdout",
     "output_type": "stream",
     "text": [
      "3\n",
      "[1 2 3 1 2 3 1 2 3]\n"
     ]
    }
   ],
   "source": [
    "n = int(input())\n",
    "arr = np.array([1, 2, 3]*n)\n",
    "print(arr)"
   ]
  },
  {
   "cell_type": "markdown",
   "metadata": {},
   "source": [
    "3.\tСоздайте массив первых 10 нечетных целых чисел."
   ]
  },
  {
   "cell_type": "code",
   "execution_count": 37,
   "metadata": {},
   "outputs": [
    {
     "name": "stdout",
     "output_type": "stream",
     "text": [
      "[ 1  3  5  7  9 11 13 15 17 19]\n"
     ]
    }
   ],
   "source": [
    "a = np.arange(1,20,2)\n",
    "print(a)"
   ]
  },
  {
   "cell_type": "code",
   "execution_count": 38,
   "metadata": {},
   "outputs": [
    {
     "data": {
      "text/plain": [
       "array([ 1,  3,  5,  7,  9, 11, 13, 15, 17, 19])"
      ]
     },
     "execution_count": 38,
     "metadata": {},
     "output_type": "execute_result"
    }
   ],
   "source": [
    "a"
   ]
  },
  {
   "cell_type": "markdown",
   "metadata": {},
   "source": [
    "4.  Создайте массив нулей размера 10 x 10, а затем создайте в нём \"рамку\" из единиц по краям."
   ]
  },
  {
   "cell_type": "code",
   "execution_count": 39,
   "metadata": {},
   "outputs": [
    {
     "name": "stdout",
     "output_type": "stream",
     "text": [
      "[[1. 1. 1. 1. 1. 1. 1. 1. 1. 1.]\n",
      " [1. 0. 0. 0. 0. 0. 0. 0. 0. 1.]\n",
      " [1. 0. 0. 0. 0. 0. 0. 0. 0. 1.]\n",
      " [1. 0. 0. 0. 0. 0. 0. 0. 0. 1.]\n",
      " [1. 0. 0. 0. 0. 0. 0. 0. 0. 1.]\n",
      " [1. 0. 0. 0. 0. 0. 0. 0. 0. 1.]\n",
      " [1. 0. 0. 0. 0. 0. 0. 0. 0. 1.]\n",
      " [1. 0. 0. 0. 0. 0. 0. 0. 0. 1.]\n",
      " [1. 0. 0. 0. 0. 0. 0. 0. 0. 1.]\n",
      " [1. 1. 1. 1. 1. 1. 1. 1. 1. 1.]]\n"
     ]
    }
   ],
   "source": [
    "a = np.zeros((10, 10))\n",
    "a[0,:] = 1\n",
    "a[9,:] = 1\n",
    "a[:,0] = 1\n",
    "a[:,9] = 1\n",
    "\n",
    "print(a)\n"
   ]
  },
  {
   "cell_type": "markdown",
   "metadata": {},
   "source": [
    "5.  Создайте массив 8 x 8 с шахматной доской из нулей и единиц."
   ]
  },
  {
   "cell_type": "code",
   "execution_count": 40,
   "metadata": {},
   "outputs": [
    {
     "name": "stdout",
     "output_type": "stream",
     "text": [
      "[[1. 0. 1. 0. 1. 0. 1. 0.]\n",
      " [0. 1. 0. 1. 0. 1. 0. 1.]\n",
      " [1. 0. 1. 0. 1. 0. 1. 0.]\n",
      " [0. 1. 0. 1. 0. 1. 0. 1.]\n",
      " [1. 0. 1. 0. 1. 0. 1. 0.]\n",
      " [0. 1. 0. 1. 0. 1. 0. 1.]\n",
      " [1. 0. 1. 0. 1. 0. 1. 0.]\n",
      " [0. 1. 0. 1. 0. 1. 0. 1.]]\n"
     ]
    }
   ],
   "source": [
    "a = np.zeros((8, 8))\n",
    "a[::2, ::2] = 1\n",
    "a[1::2, 1::2] = 1\n",
    "print(a)"
   ]
  },
  {
   "cell_type": "markdown",
   "metadata": {},
   "source": [
    "6.  Создайте функцию, которая создает $n×n$ матрицу с $(i,j)$-элементом, равным $i+j$."
   ]
  },
  {
   "cell_type": "code",
   "execution_count": 41,
   "metadata": {},
   "outputs": [
    {
     "name": "stdout",
     "output_type": "stream",
     "text": [
      "5\n",
      "[[0. 1. 2. 3. 4.]\n",
      " [1. 2. 3. 4. 5.]\n",
      " [2. 3. 4. 5. 6.]\n",
      " [3. 4. 5. 6. 7.]\n",
      " [4. 5. 6. 7. 8.]]\n"
     ]
    }
   ],
   "source": [
    "n = int(input())\n",
    "arr = np.zeros((n,n))\n",
    "for i in range(0, n):\n",
    "    for j in range(0, n):\n",
    "        arr[i][j] = i+j\n",
    "print(arr)"
   ]
  },
  {
   "cell_type": "markdown",
   "metadata": {},
   "source": [
    "7. Примените функцию dot для перемножения вектор на вектор, матрицу на вектор и матрицу на матрицу."
   ]
  },
  {
   "cell_type": "code",
   "execution_count": 42,
   "metadata": {},
   "outputs": [
    {
     "name": "stdout",
     "output_type": "stream",
     "text": [
      "[130]\n",
      "[[310]\n",
      " [110]]\n",
      "[[180 220]\n",
      " [ 55  70]]\n"
     ]
    }
   ],
   "source": [
    "A = [1, 2, 3, 4, 5]\n",
    "B = [[6], [7], [8], [9], [10]]\n",
    "C = [[10, 9, 8, 7, 6], [5, 4, 3, 2, 1]]\n",
    "D = [[1, 2], [3, 4], [5, 6], [7, 8], [9, 10]]\n",
    "\n",
    "print(np.dot(A,B))\n",
    "print(np.dot(C,B))\n",
    "print(np.dot(C,D))"
   ]
  },
  {
   "cell_type": "markdown",
   "metadata": {},
   "source": [
    "8. Вычислите cos(x) и sin(x) на интервале [0,1] с шагом $0.05$, а затем объедините оба массива чисел как строки в один массив."
   ]
  },
  {
   "cell_type": "code",
   "execution_count": 43,
   "metadata": {},
   "outputs": [
    {
     "name": "stdout",
     "output_type": "stream",
     "text": [
      "[1.0, 0.9986152781425827, 0.9944649474795756, 0.9875605021181478, 0.9779210635311101, 0.9655733276010717, 0.9505514906876966, 0.9328971549228098, 0.912659212995635, 0.8898937127472434, 0.8646637019492132, 0.8370390536963741, 0.8070962728972044, 0.7749182843977933, 0.7405942033261461, 0.7042190882928544, 0.6658936781316236, 0.625724112908743, 0.5838216399741468, 0.5403023058681398, 0.0, 0.05260728333807213, 0.10506887376594912, 0.15723948186175024, 0.20897462406278547, 0.2601310228046501, 0.3105670033203749, 0.3601428860007191, 0.40872137322898616, 0.4561679296190457, 0.5023511546035125, 0.547143146340223, 0.5904198559291864, 0.6320614309590333, 0.6719525474315213, 0.7099827291448582, 0.7460466536513234, 0.7800444439418607, 0.8118819450498316, 0.8414709848078965]\n"
     ]
    }
   ],
   "source": [
    "c = list(np.cos(np.linspace(0, 1, 20)))\n",
    "s = list(np.sin(np.linspace(0, 1, 20)))\n",
    "print(c+s)"
   ]
  },
  {
   "cell_type": "markdown",
   "metadata": {},
   "source": [
    "9. Создайте матрицу $A$ размера $3×5$ из случайных чисел с равномерным распределением на отрезке $[-1,3]$ (используйте np.random.rand)"
   ]
  },
  {
   "cell_type": "code",
   "execution_count": 60,
   "metadata": {},
   "outputs": [
    {
     "name": "stdout",
     "output_type": "stream",
     "text": [
      "[[ 1.63462648  0.92062997  2.28532586  1.73901619  2.96597406]\n",
      " [ 1.0992493   1.52925859  2.36090922  0.35915114  2.98747358]\n",
      " [ 2.87610994  1.4875975   1.37146317  1.58501423 -0.72487523]]\n"
     ]
    }
   ],
   "source": [
    "arr = np.random.rand(3, 5)*4 - 1\n",
    "print(arr)"
   ]
  },
  {
   "cell_type": "markdown",
   "metadata": {},
   "source": [
    "10. Найдите сумму всех элементов, сумму внутри строк, сумму внутри столбцов, а также среднее значение, дисперсию и стандартное отклонение чисел для каждой строки матрицы $A$. (Подобно тому, как sorted имеет необязательный аргумент key=, многие функции Numpy имеют необязательный аргумент axis=)\n"
   ]
  },
  {
   "cell_type": "code",
   "execution_count": 61,
   "metadata": {},
   "outputs": [
    {
     "name": "stdout",
     "output_type": "stream",
     "text": [
      "24.4769240080148\n",
      "[9.54557256 8.33604183 6.59530962]\n",
      "[5.60998573 3.93748606 6.01769825 3.68318156 5.22857241]\n",
      "[1.90911451 1.66720837 1.31906192]\n",
      "[0.46797318 0.85538849 1.34079167]\n",
      "[0.68408565 0.92487215 1.15792559]\n"
     ]
    }
   ],
   "source": [
    "print(arr.sum())\n",
    "print(arr.sum(1))\n",
    "print(arr.sum(0))\n",
    "mean = arr.mean(1)\n",
    "print(mean)\n",
    "print(arr.var(1))\n",
    "std = arr.std(1)\n",
    "print(std)"
   ]
  },
  {
   "cell_type": "markdown",
   "metadata": {},
   "source": [
    "11.  Отнимите от каждого элемента матрицы $A$ среднее по строке и поделите на стандартное отклонение строки."
   ]
  },
  {
   "cell_type": "code",
   "execution_count": 62,
   "metadata": {},
   "outputs": [
    {
     "name": "stdout",
     "output_type": "stream",
     "text": [
      "[[-0.40124805 -1.4449719   0.54994772 -0.24865062  1.54492284]\n",
      " [-0.61409468 -0.14915551  0.75005054 -1.41431141  1.42751105]\n",
      " [ 1.34468746  0.14554958  0.04525442  0.22967996 -1.76517141]]\n"
     ]
    }
   ],
   "source": [
    "for i in range(0, len(arr)):\n",
    "    arr[i,:] -= mean[i]\n",
    "    arr[i,:] /= std[i]\n",
    "print(arr)"
   ]
  },
  {
   "cell_type": "markdown",
   "metadata": {},
   "source": [
    "12. Отсортируйте матрицу $A$ по 3-ому столбцу, т.е. поменяйте местами строки матрицы так, чтобы 3-й столбец оказался отсортированным. Используйте для этого slicing + argsort + indexing."
   ]
  },
  {
   "cell_type": "code",
   "execution_count": 63,
   "metadata": {},
   "outputs": [
    {
     "name": "stdout",
     "output_type": "stream",
     "text": [
      "[[ 1.34468746  0.14554958  0.04525442  0.22967996 -1.76517141]\n",
      " [-0.40124805 -1.4449719   0.54994772 -0.24865062  1.54492284]\n",
      " [-0.61409468 -0.14915551  0.75005054 -1.41431141  1.42751105]]\n"
     ]
    }
   ],
   "source": [
    "print(arr[arr[:, 2].argsort()])"
   ]
  },
  {
   "cell_type": "markdown",
   "metadata": {},
   "source": [
    "13. Посчитайте две матрицы: $B = A^TA$ и $C = AA^T$. Что вы можете о них сказать? Какого они размера? В чём их сходство и отличие?"
   ]
  },
  {
   "cell_type": "code",
   "execution_count": 64,
   "metadata": {},
   "outputs": [
    {
     "name": "stdout",
     "output_type": "stream",
     "text": [
      "[[ 2.34629662  0.86710644 -0.62041445  1.27713945 -3.87012807]\n",
      " [ 0.86710644  2.13137583 -0.89994641  0.60367532 -2.70221117]\n",
      " [-0.62041445 -0.89994641  0.86706627 -1.18715584  1.84045043]\n",
      " [ 1.27713945  0.60367532 -1.18715584  2.11485677 -2.8085157 ]\n",
      " [-3.87012807 -2.70221117  1.84045043 -2.8085157   7.54040451]]\n",
      "[[ 5.          3.43148223 -3.5091444 ]\n",
      " [ 3.43148223  5.         -3.65817252]\n",
      " [-3.5091444  -3.65817252  5.        ]]\n"
     ]
    }
   ],
   "source": 
    "B = np.dot(np.transpose(arr), arr)\n",
    "C = np.dot(arr, np.transpose(arr))\n",
    "print(B)\n",
    "print(C)"
   ]
  },
  {
   "cell_type": "markdown",
   "metadata": {},
   "source": [
    "Матрицы B и C отличаются размерностью (5х5 и 3х3 соответсятвенно), похожи типом элементов (в обеих матрицах float) "
   ]
  },
  {
   "cell_type": "markdown",
   "metadata": {},
   "source": [
    "14. Найдите сумму диагональных элементов матриц $B$ и $C$."
   ]
  },
  {
   "cell_type": "code",
   "execution_count": 65,
   "metadata": {},
   "outputs": [
    {
     "data": {
      "text/plain": [
       "30.0"
      ]
     },
     "execution_count": 65,
     "metadata": {},
     "output_type": "execute_result"
    }
   ],
   "source": [
    "np.sum(np.diagonal(B)) + np.sum(np.diagonal(C))"
   ]
  },
  {
   "cell_type": "markdown",
   "metadata": {},
   "source": [
    "15.\tПосчитайте детерминант и ранг матриц $A$, $B$ и $C$, посмотрите на спектр (набор собственных значений) матриц $B$ и $C$, какие выводы вы можете сделать?  \n",
    "(подсказка: используйте готовые функции из библиотеки np.linalg). \n"
   ]
  },
  {
   "cell_type": "code",
   "execution_count": 66,
   "metadata": {},
   "outputs": [
    {
     "name": "stdout",
     "output_type": "stream",
     "text": [
      "-1.173730333800375e-30\n",
      "25.743301884085636\n",
      "3\n",
      "3\n",
      "3\n",
      "[ 1.20667063e+01  1.59945172e+00  1.33384194e+00 -1.40097096e-17\n",
      " -1.21965403e-16]\n",
      "[12.06670633  1.59945172  1.33384194]\n"
     ]
    }
   ],
   "source": [
    "print(np.linalg.det(B))\n",
    "print(np.linalg.det(C))\n",
    "print(np.linalg.matrix_rank(arr))\n",
    "print(np.linalg.matrix_rank(B))\n",
    "print(np.linalg.matrix_rank(C))\n",
    "w_B, v_B = np.linalg.eig(B)\n",
    "w_C, v_C = np.linalg.eig(C)\n",
    "print(w_B)\n",
    "print(w_C)\n"
   ]
  },
  {
   "cell_type": "markdown",
   "metadata": {},
   "source": [
    "Нельзя посчитать определитель матрицы А, так как она не квадратная. Ранги матриц А, В и С одинаковые, у матрицы В собственные значения комплексные, а у матрицы С действительные"
   ]
  },
  {
   "cell_type": "code",
   "execution_count": 67,
   "metadata": {},
   "outputs": [],
   "source": [
    "np.random.seed(1032201732)"
   ]
  },
  {
   "cell_type": "code",
   "execution_count": 68,
   "metadata": {},
   "outputs": [
    {
     "data": {
      "text/plain": [
       "array([4])"
      ]
     },
     "execution_count": 68,
     "metadata": {},
     "output_type": "execute_result"
    }
   ],
   "source": [
    "np.random.randint(0, 8,size=1)"
   ]
  },
  {
   "cell_type": "markdown",
   "metadata": {},
   "source": [
    "16. Численно посчитать определённый интеграл  3-мя методами:  \n",
    "a)\tПрямоугольников $\\int\\limits_a^b {f(x)dx \\approx \\Delta x\\sum\\limits_{k = 0}^N {f({x_k})} }$  \n",
    "b)\tТрапеций $\\int\\limits_a^b {f(x)dx \\approx \\frac{{\\Delta x}}{2}\\left( {f({x_0}) + 2\\sum\\limits_{k = 1}^{N - 1} {f({x_k})}  + f({x_N})} \\right)}$  \n",
    "c)\tПо правилу Симпсона  $\\int\\limits_a^b {f(x)dx \\approx \\frac{{\\Delta x}}{3}\\left( {f({x_0}) + 2\\sum\\limits_{k = 1}^{N/2 - 1} {f({x_{2k}})}  + 4\\sum\\limits_{k = 1}^{N/2} {f({x_{2k - 1}})}  + f({x_N})} \\right)}$  \n",
    "\n",
    "\n",
    "В реализации этих методов цикл for для суммирования использовать нельзя.  \n",
    "Нужно посчитать значение интеграла с некоторым шагом интегрирования (например начать с 0.1), потом уменьшить его в десять раз и ещё раз посчитать и так до тех пор пока отличие в ответах будет в 5-м знаке после запятой, т.е. чтобы ошибка была меньше 1e-5. Получить ответы для 3-х разных методов и сделать соответствующие выводы.  \n",
    "\n",
    "Далее необходимо сравнить полученные оценки с аналитическим решением (т.е. формульным, которое вы должны сами посчитать на листочке и вбить формулу-ответ).   \n",
    "\n",
    "В качестве интеграла взять два из следующих примеров:  \n",
    "- один с номером, сгенерированным случайным образом с помощью функции np.random.randint(9), в качестве seed для генератора случайных чисел взять номер своего студенческого билета. \n",
    "- второй номер - под номером 9, несобственный интерграл. Подумайте, как сделать подбор шага интегрирования адаптивным.\n",
    "\n",
    "<table width=\"80%\"\n",
    "       align=\"center\">\n",
    "    <tr>\n",
    "        <td> 0) $\\int\\limits_3^4 {\\frac{{{x^2} + 3}}{{x - 2}}dx}$ </td>\n",
    "        <td> 1) $\\int\\limits_{ - 2}^{ - 1} {\\frac{{x + 1}}{{{x^3} - {x^2}}}dx}$ </td>\n",
    "        <td> 2) $\\int\\limits_1^2 {\\frac{{{e^{1/{x^2}}}}}{{{x^3}}}dx}$ </td>\n",
    "        <td> 3) $\\int\\limits_1^e {\\frac{{\\cos (\\ln x)}}{x}dx}$ </td>\n",
    "        <td> 4) $\\int\\limits_1^e {\\frac{{dx}}{{x(1 + {{\\ln }^2}x)}}}$ </td>\n",
    "    </tr>                \n",
    "    <tr>\n",
    "        <td> 5) $\\int\\limits_0^{\\pi /2} {{{\\cos }^3}\\alpha \\;d\\alpha }$ </td>\n",
    "        <td> 6) $\\int\\limits_0^{1/3} {c{h^2}3x\\;dx}$ </td>\n",
    "        <td> 7) $\\int\\limits_2^3 {\\frac{{dy}}{{{y^2} - 2y - 8}}dy}$ </td>\n",
    "        <td> 8) $\\int\\limits_0^2 {\\frac{{2x - 1}}{{2x + 1}}dx}$ </td>\n",
    "        <td> 9) $\\int\\limits_{3/4}^2 {\\frac{{dx}}{{\\sqrt {2 + 3x - 2{x^2}} }}}$ </td>\n",
    "        </tr>\n",
    "</table>"
   ]
  },
  {
   "cell_type": "code",
   "execution_count": 69,
   "metadata": {},
   "outputs": [
    {
     "name": "stdout",
     "output_type": "stream",
     "text": [
      "Аналитическое решение интеграла 4:  0.7853981633974483\n",
      "Аналитическое решение интеграла 9:  1.1107207345395915\n"
     ]
    }
   ],
   "source": [
    "print('Аналитическое решение интеграла 4: ', np.arctan(np.log(np.e)) - np.arctan(np.log(1)))\n",
    "print('Аналитическое решение интеграла 9: ', np.pi/(2**(3/2)))"
   ]
  },
  {
   "cell_type": "code",
   "execution_count": 70,
   "metadata": {},
   "outputs": [
    {
     "name": "stdout",
     "output_type": "stream",
     "text": [
      "Для интеграла 4: 0.7853742503271548 Для интеграла 9: 1.1041419998928388\n",
      "Для интеграла 4: 0.7853150533411256 Для интеграла 9: 1.1041172156215913\n",
      "Для интеграла 4: 0.785308921070893 Для интеграла 9: 1.1032101773676126\n"
     ]
    }
   ],
   "source": [
    "def integ4(x):\n",
    "    return 1/(x*(1+np.log(x)**2))\n",
    "\n",
    "def integ9(x):\n",
    "    return 1/np.sqrt(2+3*x-2*x**2, where = x!=2)\n",
    "\n",
    "def solution(func,a, b, dx, method):\n",
    "    n = int((b-a) / dx)\n",
    "    xx = np.linspace(a, b, n)\n",
    "    if method == 'rectangular':\n",
    "        return dx*np.sum(func(xx))\n",
    "    elif method == 'trapezoid':\n",
    "        return dx/2*(func(xx[0]) + 2*np.sum(func(xx[1:-1])) + func(xx[-1]))\n",
    "    elif method == 'simpson':\n",
    "        return dx/3*(func(xx[0]) + 2*np.sum(func(xx[2:-1:2])) + 4*np.sum(func(xx[1:-2:2])) + func(xx[-1]))\n",
    "    else:\n",
    "        return 'Неверный метод'\n",
    "    \n",
    "print('Для интеграла 4:', solution(integ4, 1, np.e, 0.0001, 'rectangular'), 'Для интеграла 9:', solution(integ9, 3/4, 2, 0.0001, 'rectangular') )\n",
    "print('Для интеграла 4:', solution(integ4, 1, np.e, 0.0001, 'trapezoid'), 'Для интеграла 9:', solution(integ9, 3/4, 2, 0.0001, 'trapezoid') )\n",
    "print('Для интеграла 4:', solution(integ4, 1, np.e, 0.0001, 'simpson'), 'Для интеграла 9:', solution(integ9, 3/4, 2, 0.0001, 'simpson') )"
   ]
  },
  {
   "cell_type": "markdown",
   "metadata": {},
   "source": [
    "С уменьшением dx увеличивается точность"
   ]
  },
  {
   "cell_type": "code",
   "execution_count": null,
   "metadata": {},
   "outputs": [],
   "source": []
  }
 ],
 "metadata": {
  "kernelspec": {
   "display_name": "Python 3 (ipykernel)",
   "language": "python",
   "name": "python3"
  },
  "language_info": {
   "codemirror_mode": {
    "name": "ipython",
    "version": 3
   },
   "file_extension": ".py",
   "mimetype": "text/x-python",
   "name": "python",
   "nbconvert_exporter": "python",
   "pygments_lexer": "ipython3",
   "version": "3.10.11"
  }
 },
 "nbformat": 4,
 "nbformat_minor": 2
}
